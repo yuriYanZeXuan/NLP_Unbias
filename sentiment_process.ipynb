{
 "cells": [
  {
   "cell_type": "code",
   "execution_count": null,
   "metadata": {},
   "outputs": [],
   "source": [
    "import nltk\n",
    "nltk.download('punkt')\n",
    "nltk.download('wordnet')\n",
    "nltk.download('averaged_perceptron_tagger')\n",
    "nltk.download('vader_lexicon') \n",
    "from nltk.sentiment import SentimentIntensityAnalyzer \n",
    "sia = SentimentIntensityAnalyzer()\n",
    "text = \"I love this movie, it's so great!\"\n",
    "sentiment = sia.polarity_scores(text) \n",
    "if sentiment['compound'] > 0: \n",
    "    print(\"Positive sentiment detected.\")\n",
    "elif sentiment['compound'] == 0: \n",
    "    print(\"Neutral sentiment detected.\")\n",
    "else: \n",
    "    print(\"Negative sentiment detected.\")"
   ]
  },
  {
   "cell_type": "code",
   "execution_count": 7,
   "metadata": {},
   "outputs": [
    {
     "name": "stdout",
     "output_type": "stream",
     "text": [
      "{'neg': 0.0, 'neu': 0.291, 'pos': 0.709, 'compound': 0.8941}\n"
     ]
    }
   ],
   "source": [
    "print(sentiment)"
   ]
  },
  {
   "attachments": {},
   "cell_type": "markdown",
   "metadata": {},
   "source": [
    "输出结果:{'neg': 0.0, 'neu': 0.291, 'pos': 0.709, 'compound': 0.8941}\n",
    "分别代表负面情感，中性程度，积极程度，综合评分"
   ]
  }
 ],
 "metadata": {
  "kernelspec": {
   "display_name": "base",
   "language": "python",
   "name": "python3"
  },
  "language_info": {
   "codemirror_mode": {
    "name": "ipython",
    "version": 3
   },
   "file_extension": ".py",
   "mimetype": "text/x-python",
   "name": "python",
   "nbconvert_exporter": "python",
   "pygments_lexer": "ipython3",
   "version": "3.10.10"
  },
  "orig_nbformat": 4
 },
 "nbformat": 4,
 "nbformat_minor": 2
}
