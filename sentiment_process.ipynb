{
 "cells": [
  {
   "cell_type": "code",
   "execution_count": 10,
   "metadata": {},
   "outputs": [
    {
     "name": "stdout",
     "output_type": "stream",
     "text": [
      "Positive sentiment detected.\n"
     ]
    }
   ],
   "source": [
    "import nltk\n",
    "# nltk.download('punkt')\n",
    "# nltk.download('wordnet')\n",
    "# nltk.download('averaged_perceptron_tagger')\n",
    "# nltk.download('vader_lexicon') \n",
    "from nltk.sentiment import SentimentIntensityAnalyzer \n",
    "sia = SentimentIntensityAnalyzer()\n",
    "text = \"Dear God\\\n",
    "Do you hear me?\"\n",
    "sentiment = sia.polarity_scores(text) \n",
    "if sentiment['compound'] > 0: \n",
    "    print(\"Positive sentiment detected.\")\n",
    "elif sentiment['compound'] == 0: \n",
    "    print(\"Neutral sentiment detected.\")\n",
    "else: \n",
    "    print(\"Negative sentiment detected.\")"
   ]
  },
  {
   "cell_type": "code",
   "execution_count": 11,
   "metadata": {},
   "outputs": [
    {
     "name": "stdout",
     "output_type": "stream",
     "text": [
      "{'neg': 0.0, 'neu': 0.606, 'pos': 0.394, 'compound': 0.3818}\n"
     ]
    }
   ],
   "source": [
    "print(sentiment)"
   ]
  },
  {
   "attachments": {},
   "cell_type": "markdown",
   "metadata": {},
   "source": [
    "输出结果:{'neg': 0.0, 'neu': 0.291, 'pos': 0.709, 'compound': 0.8941}\n",
    "分别代表负面情感，中性程度，积极程度，综合评分"
   ]
  },
  {
   "cell_type": "code",
   "execution_count": 12,
   "metadata": {},
   "outputs": [
    {
     "data": {
      "text/plain": [
       "{'neg': 0.135, 'neu': 0.662, 'pos': 0.203, 'compound': 0.7902}"
      ]
     },
     "execution_count": 12,
     "metadata": {},
     "output_type": "execute_result"
    }
   ],
   "source": [
    "sia.polarity_scores(r\"Dear God\\\n",
    "Do you hear me?\\\n",
    "I'm supposed to fear you but you ain't said shit so maybe it's you who actually fears me?\\\n",
    "I don't know the answer I just want to see it clearly.\\\n",
    "So many lies there's a thousand different theories.\\\n",
    "All I want to know is who really made religion because I know it wasn't you but don't nobody believes me.\\\n",
    "No more lies, no more death.\\\n",
    "Bring back King, bring back X.\\\n",
    "Please dear God let their souls rest.\\\n",
    "Protect who's left and watch their steps.\\\n",
    "Dear God\\\n",
    "I don't want to have to ask you again.\\\n",
    "I just hope that you know that I'm still a believer so I'll end this all by saying amen.\\\n",
    "It's Dax\")"
   ]
  },
  {
   "cell_type": "code",
   "execution_count": 8,
   "metadata": {},
   "outputs": [],
   "source": [
    "from aip import AipNlp\n",
    "APP_ID=\"34711754\"\n",
    "API_KEY=\"O3fr7AjA7XSkukChkdRSic7y\"\n",
    "SECRET_KEY=\"Btyq01fqQ7vf6EYU0xpaOunARoBU38B0\"\n",
    "\n",
    "client=AipNlp(APP_ID,API_KEY,SECRET_KEY)\n"
   ]
  },
  {
   "cell_type": "code",
   "execution_count": 16,
   "metadata": {},
   "outputs": [
    {
     "data": {
      "text/plain": [
       "{'text': 'Dear God\\\\\\nDo you hear me?',\n",
       " 'items': [{'confidence': 0.978382,\n",
       "   'negative_prob': 0.990272,\n",
       "   'positive_prob': 0.00972812,\n",
       "   'sentiment': 0}],\n",
       " 'log_id': 1668094138136981345}"
      ]
     },
     "execution_count": 16,
     "metadata": {},
     "output_type": "execute_result"
    }
   ],
   "source": [
    "text=r\"Dear God\\\n",
    "Do you hear me?\"\n",
    "client.sentimentClassify(text)"
   ]
  }
 ],
 "metadata": {
  "kernelspec": {
   "display_name": "base",
   "language": "python",
   "name": "python3"
  },
  "language_info": {
   "codemirror_mode": {
    "name": "ipython",
    "version": 3
   },
   "file_extension": ".py",
   "mimetype": "text/x-python",
   "name": "python",
   "nbconvert_exporter": "python",
   "pygments_lexer": "ipython3",
   "version": "3.10.10"
  },
  "orig_nbformat": 4
 },
 "nbformat": 4,
 "nbformat_minor": 2
}
